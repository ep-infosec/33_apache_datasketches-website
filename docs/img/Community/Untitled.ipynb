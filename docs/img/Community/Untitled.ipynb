{
 "cells": [
  {
   "cell_type": "code",
   "execution_count": 3,
   "metadata": {},
   "outputs": [],
   "source": [
    "from datasketches import *\n",
    "import pandas as pd\n",
    "import base64"
   ]
  },
  {
   "cell_type": "code",
   "execution_count": 4,
   "metadata": {},
   "outputs": [],
   "source": [
    "deserialize_kll = lambda x : kll_floats_sketch.deserialize(base64.b64decode(x))\n",
    "\n",
    "df = pd.read_csv(\"1hr.kll.k140.txt\",\n",
    "                 sep=\"\\t\",\n",
    "                 header=None,\n",
    "                 names=['pty','device','kll'],\n",
    "                 dtype={'pty':'category', 'device':'category'},\n",
    "                 converters={'kll':deserialize_kll}\n",
    "                )"
   ]
  },
  {
   "cell_type": "code",
   "execution_count": 5,
   "metadata": {},
   "outputs": [
    {
     "data": {
      "text/html": [
       "<div>\n",
       "<style scoped>\n",
       "    .dataframe tbody tr th:only-of-type {\n",
       "        vertical-align: middle;\n",
       "    }\n",
       "\n",
       "    .dataframe tbody tr th {\n",
       "        vertical-align: top;\n",
       "    }\n",
       "\n",
       "    .dataframe thead th {\n",
       "        text-align: right;\n",
       "    }\n",
       "</style>\n",
       "<table border=\"1\" class=\"dataframe\">\n",
       "  <thead>\n",
       "    <tr style=\"text-align: right;\">\n",
       "      <th></th>\n",
       "      <th>pty</th>\n",
       "      <th>device</th>\n",
       "      <th>kll</th>\n",
       "    </tr>\n",
       "  </thead>\n",
       "  <tbody>\n",
       "    <tr>\n",
       "      <th>0</th>\n",
       "      <td>mail</td>\n",
       "      <td>mobile</td>\n",
       "      <td>### KLL sketch summary:\\n   K              : 1...</td>\n",
       "    </tr>\n",
       "    <tr>\n",
       "      <th>1</th>\n",
       "      <td>mail</td>\n",
       "      <td>desktop</td>\n",
       "      <td>### KLL sketch summary:\\n   K              : 1...</td>\n",
       "    </tr>\n",
       "    <tr>\n",
       "      <th>2</th>\n",
       "      <td>news</td>\n",
       "      <td>mobile</td>\n",
       "      <td>### KLL sketch summary:\\n   K              : 1...</td>\n",
       "    </tr>\n",
       "    <tr>\n",
       "      <th>3</th>\n",
       "      <td>news</td>\n",
       "      <td>desktop</td>\n",
       "      <td>### KLL sketch summary:\\n   K              : 1...</td>\n",
       "    </tr>\n",
       "    <tr>\n",
       "      <th>4</th>\n",
       "      <td>sports</td>\n",
       "      <td>mobile</td>\n",
       "      <td>### KLL sketch summary:\\n   K              : 1...</td>\n",
       "    </tr>\n",
       "    <tr>\n",
       "      <th>5</th>\n",
       "      <td>sports</td>\n",
       "      <td>desktop</td>\n",
       "      <td>### KLL sketch summary:\\n   K              : 1...</td>\n",
       "    </tr>\n",
       "    <tr>\n",
       "      <th>6</th>\n",
       "      <td>finance</td>\n",
       "      <td>mobile</td>\n",
       "      <td>### KLL sketch summary:\\n   K              : 1...</td>\n",
       "    </tr>\n",
       "    <tr>\n",
       "      <th>7</th>\n",
       "      <td>finance</td>\n",
       "      <td>desktop</td>\n",
       "      <td>### KLL sketch summary:\\n   K              : 1...</td>\n",
       "    </tr>\n",
       "    <tr>\n",
       "      <th>8</th>\n",
       "      <td>front-page</td>\n",
       "      <td>mobile</td>\n",
       "      <td>### KLL sketch summary:\\n   K              : 1...</td>\n",
       "    </tr>\n",
       "    <tr>\n",
       "      <th>9</th>\n",
       "      <td>front-page</td>\n",
       "      <td>desktop</td>\n",
       "      <td>### KLL sketch summary:\\n   K              : 1...</td>\n",
       "    </tr>\n",
       "  </tbody>\n",
       "</table>\n",
       "</div>"
      ],
      "text/plain": [
       "          pty   device                                                kll\n",
       "0        mail   mobile  ### KLL sketch summary:\\n   K              : 1...\n",
       "1        mail  desktop  ### KLL sketch summary:\\n   K              : 1...\n",
       "2        news   mobile  ### KLL sketch summary:\\n   K              : 1...\n",
       "3        news  desktop  ### KLL sketch summary:\\n   K              : 1...\n",
       "4      sports   mobile  ### KLL sketch summary:\\n   K              : 1...\n",
       "5      sports  desktop  ### KLL sketch summary:\\n   K              : 1...\n",
       "6     finance   mobile  ### KLL sketch summary:\\n   K              : 1...\n",
       "7     finance  desktop  ### KLL sketch summary:\\n   K              : 1...\n",
       "8  front-page   mobile  ### KLL sketch summary:\\n   K              : 1...\n",
       "9  front-page  desktop  ### KLL sketch summary:\\n   K              : 1..."
      ]
     },
     "execution_count": 5,
     "metadata": {},
     "output_type": "execute_result"
    }
   ],
   "source": [
    "df"
   ]
  },
  {
   "cell_type": "code",
   "execution_count": 6,
   "metadata": {},
   "outputs": [
    {
     "name": "stdout",
     "output_type": "stream",
     "text": [
      "### KLL sketch summary:\n",
      "   K              : 140\n",
      "   min K          : 140\n",
      "   M              : 8\n",
      "   N              : 8651479\n",
      "   Epsilon        : 1.88%\n",
      "   Epsilon PMF    : 2.31%\n",
      "   Empty          : false\n",
      "   Estimation mode: true\n",
      "   Levels         : 16\n",
      "   Sorted         : false\n",
      "   Capacity items : 466\n",
      "   Retained items : 345\n",
      "   Storage bytes  : 1472\n",
      "   Min value      : 0\n",
      "   Max value      : 5.38e+03\n",
      "### End sketch summary\n",
      "\n"
     ]
    }
   ],
   "source": [
    "query_result = kll_floats_sketch(140)\n",
    "for sk in df.loc[df['pty'] != 'news'].itertuples(index=False):\n",
    "    query_result.merge(sk.kll)\n",
    "print(query_result)"
   ]
  },
  {
   "cell_type": "code",
   "execution_count": 7,
   "metadata": {},
   "outputs": [],
   "source": [
    "#xmin = query_result.get_min_value()\n",
    "#xmax = query_result.get_max_value()\n",
    "xmin = 0.001\n",
    "xmax = query_result.get_quantile(0.95)\n",
    "num_splits = 50\n",
    "step = (xmax - xmin) / num_splits\n",
    "splits = [0.001 + (i*step) for i in range(0, num_splits)]"
   ]
  },
  {
   "cell_type": "code",
   "execution_count": 8,
   "metadata": {},
   "outputs": [],
   "source": [
    "pmf = query_result.get_pmf(splits)\n",
    "x = splits.copy()\n",
    "x.append(xmax)"
   ]
  },
  {
   "cell_type": "code",
   "execution_count": 9,
   "metadata": {},
   "outputs": [],
   "source": [
    "import seaborn as sns\n",
    "import numpy as np\n",
    "import matplotlib.pyplot as plt\n",
    "%matplotlib inline\n",
    "sns.set(color_codes=True)"
   ]
  },
  {
   "cell_type": "code",
   "execution_count": 10,
   "metadata": {},
   "outputs": [
    {
     "data": {
      "text/plain": [
       "<BarContainer object of 51 artists>"
      ]
     },
     "execution_count": 10,
     "metadata": {},
     "output_type": "execute_result"
    },
    {
     "data": {
      "image/png": "[encoded data removed]",
      "text/plain": [
       "<Figure size 432x288 with 1 Axes>"
      ]
     },
     "metadata": {},
     "output_type": "display_data"
    }
   ],
   "source": [
    "fig, ax = plt.subplots()\n",
    "plt.bar(x=x, height=pmf, align='edge', width=-50)\n",
    "#ax.set_xscale('log')"
   ]
  },
  {
   "cell_type": "code",
   "execution_count": 11,
   "metadata": {},
   "outputs": [],
   "source": [
    "num_splits = 50\n",
    "logstep = np.log10(xmax - 1.0) / num_splits\n",
    "logsplits = [1.0 + (i*logstep) for i in range(0, num_splits)]"
   ]
  },
  {
   "cell_type": "code",
   "execution_count": 12,
   "metadata": {},
   "outputs": [],
   "source": [
    "pmf = query_result.get_pmf(np.power(logsplits,10))\n",
    "logx = logsplits.copy()\n",
    "logx.append(xmax)"
   ]
  },
  {
   "cell_type": "code",
   "execution_count": 13,
   "metadata": {},
   "outputs": [
    {
     "data": {
      "text/plain": [
       "<BarContainer object of 51 artists>"
      ]
     },
     "execution_count": 13,
     "metadata": {},
     "output_type": "execute_result"
    },
    {
     "data": {
      "image/png": "[encoded data removed]",
      "text/plain": [
       "<Figure size 432x288 with 1 Axes>"
      ]
     },
     "metadata": {},
     "output_type": "display_data"
    }
   ],
   "source": [
    "fig, ax = plt.subplots()\n",
    "plt.bar(x=x, height=pmf, align='edge', width=-50)"
   ]
  },
  {
   "cell_type": "code",
   "execution_count": 14,
   "metadata": {},
   "outputs": [],
   "source": [
    "kll = kll_floats_sketch(140)\n",
    "for i in range(0,100000):\n",
    "    kll.update(np.random.exponential())\n",
    "xmin = kll.get_min_value()\n",
    "xmax = kll.get_max_value()\n",
    "step = (xmax - xmin) / 50\n",
    "splits = [xmin + (i*step) for i in range(0,50)]\n",
    "x = splits.copy()\n",
    "x.append(xmax)"
   ]
  },
  {
   "cell_type": "code",
   "execution_count": 15,
   "metadata": {},
   "outputs": [
    {
     "data": {
      "text/plain": [
       "<BarContainer object of 51 artists>"
      ]
     },
     "execution_count": 15,
     "metadata": {},
     "output_type": "execute_result"
    },
    {
     "data": {
      "image/png": "[encoded data removed]",
      "text/plain": [
       "<Figure size 432x288 with 1 Axes>"
      ]
     },
     "metadata": {},
     "output_type": "display_data"
    }
   ],
   "source": [
    "pmf = kll.get_pmf(splits)\n",
    "plt.bar(x=x,height=pmf,align='edge',width=-.25)"
   ]
  },
  {
   "cell_type": "code",
   "execution_count": 16,
   "metadata": {},
   "outputs": [],
   "source": [
    "x = [i for i in range(-10,11)]"
   ]
  },
  {
   "cell_type": "code",
   "execution_count": 17,
   "metadata": {},
   "outputs": [],
   "source": [
    "y = np.multiply(x,x)"
   ]
  },
  {
   "cell_type": "code",
   "execution_count": 18,
   "metadata": {},
   "outputs": [
    {
     "data": {
      "text/plain": [
       "[<matplotlib.lines.Line2D at 0x7f933a602760>]"
      ]
     },
     "execution_count": 18,
     "metadata": {},
     "output_type": "execute_result"
    },
    {
     "data": {
      "image/png": "[encoded data removed]",
      "text/plain": [
       "<Figure size 432x288 with 1 Axes>"
      ]
     },
     "metadata": {},
     "output_type": "display_data"
    }
   ],
   "source": [
    "plt.plot(x,y)"
   ]
  },
  {
   "cell_type": "code",
   "execution_count": 67,
   "metadata": {},
   "outputs": [],
   "source": [
    "kll = kll_floats_sketch(160)"
   ]
  },
  {
   "cell_type": "code",
   "execution_count": 68,
   "metadata": {},
   "outputs": [],
   "source": [
    "kll.update(np.random.poisson(lam=2.0,size=2**20))\n",
    "kll.update(np.random.poisson(lam=20.0,size=2**22))"
   ]
  },
  {
   "cell_type": "code",
   "execution_count": 75,
   "metadata": {},
   "outputs": [
    {
     "data": {
      "text/plain": [
       "<BarContainer object of 61 artists>"
      ]
     },
     "execution_count": 75,
     "metadata": {},
     "output_type": "execute_result"
    },
    {
     "data": {
      "image/png": "[encoded data removed]",
      "text/plain": [
       "<Figure size 432x288 with 1 Axes>"
      ]
     },
     "metadata": {},
     "output_type": "display_data"
    }
   ],
   "source": [
    "xmin = kll.get_min_value()\n",
    "xmax = kll.get_max_value()\n",
    "num_steps = 60\n",
    "step = (xmax - xmin) / num_steps\n",
    "splits = [xmin + (i*step) for i in range(0,num_steps)]\n",
    "x = splits.copy()\n",
    "x.append(xmax)\n",
    "pmf = kll.get_pmf(splits)\n",
    "plt.bar(x=x,height=pmf,align='edge',width=-.5)"
   ]
  },
  {
   "cell_type": "code",
   "execution_count": null,
   "metadata": {},
   "outputs": [],
   "source": []
  }
 ],
 "metadata": {
  "kernelspec": {
   "display_name": "Python 3",
   "language": "python",
   "name": "python3"
  },
  "language_info": {
   "codemirror_mode": {
    "name": "ipython",
    "version": 3
   },
   "file_extension": ".py",
   "mimetype": "text/x-python",
   "name": "python",
   "nbconvert_exporter": "python",
   "pygments_lexer": "ipython3",
   "version": "3.8.2"
  }
 },
 "nbformat": 4,
 "nbformat_minor": 4
}
